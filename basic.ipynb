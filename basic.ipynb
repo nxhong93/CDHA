{
  "nbformat": 4,
  "nbformat_minor": 0,
  "metadata": {
    "colab": {
      "name": "basic.ipynb",
      "version": "0.3.2",
      "provenance": [],
      "toc_visible": true,
      "include_colab_link": true
    },
    "kernelspec": {
      "name": "python3",
      "display_name": "Python 3"
    },
    "accelerator": "GPU"
  },
  "cells": [
    {
      "cell_type": "markdown",
      "metadata": {
        "id": "view-in-github",
        "colab_type": "text"
      },
      "source": [
        "[View in Colaboratory](https://colab.research.google.com/github/nxhong93/CDHA/blob/master/basic.ipynb)"
      ]
    },
    {
      "metadata": {
        "id": "ldrF1LYSKqdw",
        "colab_type": "code",
        "colab": {
          "base_uri": "https://localhost:8080/",
          "height": 131
        },
        "outputId": "03d808e0-77cd-4365-da58-af8fd2300dfb"
      },
      "cell_type": "code",
      "source": [
        "from google.colab import drive\n",
        "drive.mount('/content/drive')"
      ],
      "execution_count": 1,
      "outputs": [
        {
          "output_type": "stream",
          "text": [
            "Go to this URL in a browser: https://accounts.google.com/o/oauth2/auth?client_id=947318989803-6bn6qk8qdgf4n4g3pfee6491hc0brc4i.apps.googleusercontent.com&redirect_uri=urn%3Aietf%3Awg%3Aoauth%3A2.0%3Aoob&scope=email%20https%3A%2F%2Fwww.googleapis.com%2Fauth%2Fdocs.test%20https%3A%2F%2Fwww.googleapis.com%2Fauth%2Fdrive%20https%3A%2F%2Fwww.googleapis.com%2Fauth%2Fdrive.photos.readonly%20https%3A%2F%2Fwww.googleapis.com%2Fauth%2Fpeopleapi.readonly&response_type=code\n",
            "\n",
            "Enter your authorization code:\n",
            "··········\n",
            "Mounted at /content/drive\n"
          ],
          "name": "stdout"
        }
      ]
    },
    {
      "metadata": {
        "id": "uDh4UqDwLvqS",
        "colab_type": "code",
        "colab": {
          "base_uri": "https://localhost:8080/",
          "height": 55
        },
        "outputId": "9dc44c78-541a-4834-c7bf-fa14939a9815"
      },
      "cell_type": "code",
      "source": [
        "!pip install -q scikit-plot\n",
        "import numpy as np\n",
        "import pandas as pd\n",
        "import pickle\n",
        "import json\n",
        "import matplotlib.pyplot as plt\n",
        "from tqdm import tqdm\n",
        "from sklearn import preprocessing\n",
        "from sklearn.feature_extraction.text import TfidfVectorizer, CountVectorizer \n",
        "from sklearn.model_selection import cross_val_predict, StratifiedKFold\n",
        "from sklearn.linear_model import LogisticRegression\n",
        "from sklearn.metrics import log_loss, accuracy_score\n",
        "from sklearn.naive_bayes import BernoulliNB, GaussianNB, MultinomialNB\n",
        "from sklearn.decomposition import TruncatedSVD\n",
        "from sklearn.svm import SVC\n",
        "from sklearn.model_selection import train_test_split\n",
        "from nltk.corpus import stopwords\n",
        "import nltk\n",
        "nltk.download('punkt')\n",
        "from nltk.tokenize import word_tokenize\n",
        "import xgboost as xgb\n",
        "import scikitplot.plotters as skplt"
      ],
      "execution_count": 8,
      "outputs": [
        {
          "output_type": "stream",
          "text": [
            "[nltk_data] Downloading package punkt to /root/nltk_data...\n",
            "[nltk_data]   Package punkt is already up-to-date!\n"
          ],
          "name": "stdout"
        }
      ]
    },
    {
      "metadata": {
        "id": "4UTAruOlMgdB",
        "colab_type": "code",
        "colab": {
          "base_uri": "https://localhost:8080/",
          "height": 414
        },
        "outputId": "6d7d9f60-5469-480f-a06e-512261dc0d47"
      },
      "cell_type": "code",
      "source": [
        "train_text = pd.read_csv('drive/My Drive/app/t/nlp/basic/training_text', sep = '\\|\\|', skiprows=1, header = None, names=['ID', 'Text'])\n",
        "train_variants = pd.read_csv('drive/My Drive/app/t/nlp/basic/training_variants')\n",
        "test_text = pd.read_csv('drive/My Drive/app/t/nlp/basic/test_text', sep = '\\|\\|', skiprows=1, header = None, names=['ID', 'Text'])\n",
        "test_variants = pd.read_csv('drive/My Drive/app/t/nlp/basic/test_variants')\n",
        "train = pd.merge(train_variants, train_text, how = 'left', on = 'ID').dropna()\n",
        "train, _ = train_test_split(train, test_size=0.7, random_state=8)\n",
        "test = pd.merge(test_variants, test_text, how = 'left', on = 'ID').dropna()\n",
        "print(train.sample(4))\n",
        "print(test.sample(4))"
      ],
      "execution_count": 9,
      "outputs": [
        {
          "output_type": "stream",
          "text": [
            "/usr/local/lib/python3.6/dist-packages/ipykernel_launcher.py:1: ParserWarning: Falling back to the 'python' engine because the 'c' engine does not support regex separators (separators > 1 char and different from '\\s+' are interpreted as regex); you can avoid this warning by specifying engine='python'.\n",
            "  \"\"\"Entry point for launching an IPython kernel.\n",
            "/usr/local/lib/python3.6/dist-packages/ipykernel_launcher.py:3: ParserWarning: Falling back to the 'python' engine because the 'c' engine does not support regex separators (separators > 1 char and different from '\\s+' are interpreted as regex); you can avoid this warning by specifying engine='python'.\n",
            "  This is separate from the ipykernel package so we can avoid doing imports until\n"
          ],
          "name": "stderr"
        },
        {
          "output_type": "stream",
          "text": [
            "        ID   Gene             Variation  Class  \\\n",
            "143    143   EGFR                 G735S      7   \n",
            "3015  3015    KIT          N564_Y578del      2   \n",
            "3013  3013    KIT                 I653T      2   \n",
            "287    287  ARID2  Truncating Mutations      1   \n",
            "\n",
            "                                                   Text  \n",
            "143   While epidermal growth factor receptor (EGFR) ...  \n",
            "3015   A 57-year-old man with gastrointestinal strom...  \n",
            "3013  Context  Some melanomas arising from acral, mu...  \n",
            "287   In eukaryotic cells, DNA is packaged into chro...  \n",
            "        ID  Gene Variation                                               Text\n",
            "4240  4240  IRF6      R84H  Many sequence variants in predisposition genes...\n",
            "4714  4714  ARSA     T276M  The phosphatidylinositol 3-kinase (PI3K) pathw...\n",
            "309    309  BSND       R8W  Advanced urothelial carcinoma (UC) of the blad...\n",
            "5299  5299   GAA     P545L  mTOR-complex 2 (mTORC2) contains the mammalian...\n"
          ],
          "name": "stdout"
        }
      ]
    },
    {
      "metadata": {
        "id": "BZVM9anWM_ZJ",
        "colab_type": "code",
        "colab": {}
      },
      "cell_type": "code",
      "source": [
        "def evaluate_features(X, y, clf = 'None'):\n",
        "\tclf = LogisticRegression()\n",
        "\tprobas = cross_val_predict(clf, X, y, cv = StratifiedKFold(random_state=8), n_jobs = -1, method = 'predict_proba', verbose = -2)\n",
        "\tpred_indices = np.argmax(probas, axis=1)\n",
        "\tclass_ = np.unique(y)\n",
        "\tpreds = class_[pred_indices]\n",
        "\tprint('Log loss: {}'.format(log_loss(y, probas)))\n",
        "\tprint('Accuracy: {}'.format(accuracy_score(y, preds)))\n",
        "\tskplt.plot_confusion_matrix(y, preds)"
      ],
      "execution_count": 0,
      "outputs": []
    },
    {
      "metadata": {
        "id": "HyB_PP1ONC5d",
        "colab_type": "code",
        "colab": {}
      },
      "cell_type": "code",
      "source": [
        "count_vt = CountVectorizer(tokenizer=word_tokenize, stop_words='english')\n",
        "bag_of_words = count_vt.fit_transform(train['Text'])"
      ],
      "execution_count": 0,
      "outputs": []
    },
    {
      "metadata": {
        "id": "qSBUajDTc1Kn",
        "colab_type": "code",
        "colab": {}
      },
      "cell_type": "code",
      "source": [
        "svd = TruncatedSVD(n_components=25, n_iter=25, random_state=12)\n",
        "truncatedSVD = svd.fit_transform(bag_of_words)"
      ],
      "execution_count": 0,
      "outputs": []
    },
    {
      "metadata": {
        "id": "iFclo_eodHVU",
        "colab_type": "code",
        "colab": {
          "base_uri": "https://localhost:8080/",
          "height": 591
        },
        "outputId": "0eb57ab9-fc39-47ef-9313-056bb48c0969"
      },
      "cell_type": "code",
      "source": [
        "evaluate_features(truncatedSVD, train['Class'].values.ravel())"
      ],
      "execution_count": 14,
      "outputs": [
        {
          "output_type": "stream",
          "text": [
            "/usr/local/lib/python3.6/dist-packages/sklearn/linear_model/base.py:340: RuntimeWarning: overflow encountered in exp\n",
            "  np.exp(prob, prob)\n",
            "/usr/local/lib/python3.6/dist-packages/sklearn/linear_model/base.py:340: RuntimeWarning: overflow encountered in exp\n",
            "  np.exp(prob, prob)\n",
            "[Parallel(n_jobs=-1)]: Done   3 out of   3 | elapsed:    1.0s remaining:    0.0s\n",
            "[Parallel(n_jobs=-1)]: Done   3 out of   3 | elapsed:    1.0s finished\n",
            "/usr/local/lib/python3.6/dist-packages/sklearn/utils/deprecation.py:77: DeprecationWarning: Function plot_confusion_matrix is deprecated; This will be removed in v0.4.0. Please use scikitplot.metrics.plot_confusion_matrix instead.\n",
            "  warnings.warn(msg, category=DeprecationWarning)\n"
          ],
          "name": "stderr"
        },
        {
          "output_type": "stream",
          "text": [
            "Log loss: 1.7849945623305377\n",
            "Accuracy: 0.48993963782696176\n"
          ],
          "name": "stdout"
        },
        {
          "output_type": "display_data",
          "data": {
            "image/png": "[encoded data removed]",
            "text/plain": [
              "<matplotlib.figure.Figure at 0x7fe3d929a390>"
            ]
          },
          "metadata": {
            "tags": []
          }
        }
      ]
    }
  ]
}